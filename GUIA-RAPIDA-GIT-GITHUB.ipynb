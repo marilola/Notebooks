{
 "metadata": {
  "name": ""
 },
 "nbformat": 3,
 "nbformat_minor": 0,
 "worksheets": [
  {
   "cells": [
    {
     "cell_type": "heading",
     "level": 1,
     "metadata": {},
     "source": [
      "Gu\u00eda r\u00e1pida de Git y Github"
     ]
    },
    {
     "cell_type": "markdown",
     "metadata": {},
     "source": [
      "- Git nos ayuda en el control de versiones de nuestros c\u00f3digo y/o proyectos (si escribes un libro tambi\u00e9n puedes usar Git).\n",
      "- Nos permite crear repositorios (Ej. proyecto o carpeta de c\u00f3digo) y compartirlo con la comunidad.\n",
      "- Mantiene sincronizado nuestro proyecto en diferentes PCs.\n",
      "- Nos permite trabajar de forma colaborativo y mucho m\u00e1s.\n",
      "- Github es un hosting para alojar nuestros proyectos utilizando el sistema de versiones Git."
     ]
    },
    {
     "cell_type": "heading",
     "level": 3,
     "metadata": {},
     "source": [
      "Instalaci\u00f3n de Git"
     ]
    },
    {
     "cell_type": "markdown",
     "metadata": {},
     "source": [
      "- Para Windows y Mac aqu\u00ed encontrar\u00e1n las instrucciones: http://git-scm.com/downloads\n",
      "- En Linux (Ubuntu), desde el Centro de Software o escribir en un terminal: sudo apt-get install git\n"
     ]
    },
    {
     "cell_type": "heading",
     "level": 3,
     "metadata": {},
     "source": [
      "Configuraci\u00f3n de Git: A\u00f1adiendo nombre de usuarios y email"
     ]
    },
    {
     "cell_type": "markdown",
     "metadata": {},
     "source": [
      "Desde ahora, solo lo que aparece debajo de \"%%bash\" deber\u00e1s escribirlo en un terminal. El comando \"%%bash\" en ipython notebook nos permite mostrar los comandos que escribimos en un terminal. Procedamos a a\u00f1adir nombre de usuarios y correo electr\u00f3nico."
     ]
    },
    {
     "cell_type": "code",
     "collapsed": false,
     "input": [
      "%%bash\n",
      "git config --global user.name \"Nombre de Usuario\"\n",
      "git config --global user.email \"email@e-mail.com\""
     ],
     "language": "python",
     "metadata": {},
     "outputs": [],
     "prompt_number": 4
    },
    {
     "cell_type": "markdown",
     "metadata": {},
     "source": [
      "Existe una opci\u00f3n para no tener que escribir nuestro usuario y contrase\u00f1a cada vez que trabajemos con git. Aunque no es necesario hacerlo. En [1] y [2] encontrar\u00e1s m\u00e1s informaci\u00f3n."
     ]
    },
    {
     "cell_type": "heading",
     "level": 3,
     "metadata": {},
     "source": [
      "Creando nuestro repositorio en la nube (en GitHub)"
     ]
    },
    {
     "cell_type": "markdown",
     "metadata": {},
     "source": [
      "Primero debemos crear una cuenta en Github: https://github.com/\n",
      "Luego desde la parte superior derechar, haremos clic en el simbolo \"+\" y en \"New repository\". Observa la im\u00e1gen de abajo (out[10])."
     ]
    },
    {
     "cell_type": "code",
     "collapsed": false,
     "input": [
      "from IPython.display import Image\n",
      "Image(url='https://dl.dropboxusercontent.com/u/86899807/blog/github-new-repository.png')"
     ],
     "language": "python",
     "metadata": {},
     "outputs": [
      {
       "html": [
        "<img src=\"https://dl.dropboxusercontent.com/u/86899807/blog/github-new-repository.png\"/>"
       ],
       "metadata": {},
       "output_type": "pyout",
       "prompt_number": 10,
       "text": [
        "<IPython.core.display.Image at 0x7fce5e7e3850>"
       ]
      }
     ],
     "prompt_number": 10
    },
    {
     "cell_type": "markdown",
     "metadata": {},
     "source": [
      "A continuaci\u00f3n a\u00f1adiremos un nombre y una descripci\u00f3n a nuestro repositorio. Y hacemos clic en el bot\u00f3n verde \"Create repository\"."
     ]
    },
    {
     "cell_type": "code",
     "collapsed": false,
     "input": [
      "Image(url='https://dl.dropboxusercontent.com/u/86899807/blog/github-create-repository.png')"
     ],
     "language": "python",
     "metadata": {},
     "outputs": [
      {
       "html": [
        "<img src=\"https://dl.dropboxusercontent.com/u/86899807/blog/github-create-repository.png\"/>"
       ],
       "metadata": {},
       "output_type": "pyout",
       "prompt_number": 11,
       "text": [
        "<IPython.core.display.Image at 0x7fce5e7e3690>"
       ]
      }
     ],
     "prompt_number": 11
    },
    {
     "cell_type": "markdown",
     "metadata": {},
     "source": [
      "Ahora ya tenemos creado nuestro repositorio en Github. Observa que nos mostrar\u00e1 la direcci\u00f3n de nuestro repositorio (HTTP/SSH). Cuando visites otros repositorios, la direcci\u00f3n la encontrar\u00e1s en la parte inferior derecha de la p\u00e1gina."
     ]
    },
    {
     "cell_type": "code",
     "collapsed": false,
     "input": [
      "Image(url='https://dl.dropboxusercontent.com/u/86899807/blog/github-http.png')"
     ],
     "language": "python",
     "metadata": {},
     "outputs": [
      {
       "html": [
        "<img src=\"https://dl.dropboxusercontent.com/u/86899807/blog/github-http.png\"/>"
       ],
       "metadata": {},
       "output_type": "pyout",
       "prompt_number": 12,
       "text": [
        "<IPython.core.display.Image at 0x7fce5e7e3610>"
       ]
      }
     ],
     "prompt_number": 12
    },
    {
     "cell_type": "heading",
     "level": 3,
     "metadata": {},
     "source": [
      "Clonando un repositorio Github en nuestro ordenador"
     ]
    },
    {
     "cell_type": "markdown",
     "metadata": {},
     "source": [
      "Ubicate en el directorio donde clonar\u00e1s el repositorio Github que acabamos de crear. El comando a usar es \"git clone\" seguido de la [direcci\u00f3n del repositorio] [Nombre de nueva carpeta]. "
     ]
    },
    {
     "cell_type": "markdown",
     "metadata": {},
     "source": [
      "Recuerda que s\u00f3lo debes de copiar en el terminal el c\u00f3digo debajo de \"%%bash\"."
     ]
    },
    {
     "cell_type": "code",
     "collapsed": false,
     "input": [
      "%%bash\n",
      "git clone https://github.com/iafarfan/ejemplos-python.git ejemplos-python"
     ],
     "language": "python",
     "metadata": {},
     "outputs": [
      {
       "output_type": "stream",
       "stream": "stderr",
       "text": [
        "Cloning into 'ejemplos-python'...\n",
        "warning: You appear to have cloned an empty repository.\n"
       ]
      }
     ],
     "prompt_number": 18
    },
    {
     "cell_type": "markdown",
     "metadata": {},
     "source": [
      "Observa que hemos clonado un repositorio vac\u00edo. Y se habr\u00e1 creado una nueva carpeta \"ejemplos-python\" este ser\u00e1 nuestro nuevo repositorio local. "
     ]
    },
    {
     "cell_type": "heading",
     "level": 3,
     "metadata": {},
     "source": [
      "Realizando cambios en el repositorio local y enviandolos al repositorio remoto"
     ]
    },
    {
     "cell_type": "markdown",
     "metadata": {},
     "source": [
      "Ahora crearemos un archivo en nuestro repositorio local y luego actualizaremos los cambios en nuestro repositorio remoto en github. \n",
      "Entramos a la carpeta \"ejemplos-python\" y creamos un archivo \"README.md\" con el siguiente texto: \"Este repositorio contiene c\u00f3digos python\"."
     ]
    },
    {
     "cell_type": "code",
     "collapsed": false,
     "input": [
      "%%bash\n",
      "cd ejemplos-python\n",
      "echo \"Este repositorio contiene c\u00f3digos python\" >>  README.md"
     ],
     "language": "python",
     "metadata": {},
     "outputs": [],
     "prompt_number": 19
    },
    {
     "cell_type": "markdown",
     "metadata": {},
     "source": [
      "A continuaci\u00f3n con:\n",
      "    - git add \"Archivo\": agregaremos \"Archivo\" al espacio de trabajo de Git\n",
      "    - git commit -m \"descripci\u00f3n\": agregaremos una nueva revisi\u00f3n del archivo y \"la descripci\u00f3n\"\n",
      "    - git push -u origin master: empujaremos los cambios de nuestro repositorio local (\"ejemplos-python\" a nuestro repositorio remoto en github."
     ]
    },
    {
     "cell_type": "code",
     "collapsed": false,
     "input": [
      "%%bash\n",
      "git add README.md\n",
      "git commit -m \"Realizando el primer cambio\"\n",
      "git push -u origin master "
     ],
     "language": "python",
     "metadata": {},
     "outputs": [],
     "prompt_number": "*"
    },
    {
     "cell_type": "markdown",
     "metadata": {},
     "source": [
      "Git te pedir\u00e1 que ingreses tu usuario y contrase\u00f1a:\n",
      "- Username for 'https://github.com': XXXXXXXXXXX\n",
      "- Password for 'https://tu_usuario@github.com': XXXXXXXXXXXX\n",
      "\n",
      "Ahora tu repositorio en remoto en Github se habr\u00e1 actualizado, aparecer\u00e1 el nuevo archivo \"README.md\" similar a la im\u00e1gen de abajo."
     ]
    },
    {
     "cell_type": "code",
     "collapsed": false,
     "input": [
      "Image(url='https://dl.dropboxusercontent.com/u/86899807/blog/github-primer-repositorio.png')"
     ],
     "language": "python",
     "metadata": {},
     "outputs": [
      {
       "html": [
        "<img src=\"https://dl.dropboxusercontent.com/u/86899807/blog/github-primer-repositorio.png\"/>"
       ],
       "metadata": {},
       "output_type": "pyout",
       "prompt_number": 13,
       "text": [
        "<IPython.core.display.Image at 0x7fce5e7e3750>"
       ]
      }
     ],
     "prompt_number": 13
    },
    {
     "cell_type": "markdown",
     "metadata": {},
     "source": [
      "Eso es todo, desde ahora tendr\u00e1s que seguir el mismo procedimiento cuando agregues o crees nuevos archivos a tu respositorio local: agregarlos con \"git add\", realiza un \"git commit\" y empujalos para actualizar tu repositorio remoto con un \"git push\". "
     ]
    },
    {
     "cell_type": "heading",
     "level": 3,
     "metadata": {},
     "source": [
      "C\u00f3mandos \u00fatiles"
     ]
    },
    {
     "cell_type": "markdown",
     "metadata": {},
     "source": [
      "- git status: comprueba el estado de tus archivos.\n",
      "- git remote show origin: obtiene informaci\u00f3n del repositorio remoto.\n",
      "- git branch [rama]: crea una nueva rama\n",
      "- git checkout [rama x]: cambia a la rama x\n",
      "- git pull [url del repositorio remoto]: trae los nuevos cambios realizados en el repositorio remoto (github)"
     ]
    },
    {
     "cell_type": "heading",
     "level": 3,
     "metadata": {},
     "source": [
      "M\u00e1s informaci\u00f3n en:"
     ]
    },
    {
     "cell_type": "markdown",
     "metadata": {},
     "source": [
      "[1] Configurando git: https://help.github.com/articles/set-up-git"
     ]
    },
    {
     "cell_type": "markdown",
     "metadata": {},
     "source": [
      "[2] Generando SSH-keys: https://help.github.com/articles/generating-ssh-keys"
     ]
    },
    {
     "cell_type": "markdown",
     "metadata": {},
     "source": [
      "[3] Git for Scientists: A Tutorial(2012): http://nyuccl.org/pages/GitTutorial/"
     ]
    },
    {
     "cell_type": "markdown",
     "metadata": {},
     "source": [
      "[4] Tutorial de Git en Espa\u00f1ol (2011): http://charliedontcode.com/programacion/2011/11/27/tutorial-de-git-en-espanol.html"
     ]
    },
    {
     "cell_type": "markdown",
     "metadata": {},
     "source": [
      "[5] Version control for fun and profit: the tool you didn't know you needed. From personal workflows to open collaboration: http://nbviewer.ipython.org/github/fperez/reprosw/blob/master/Version%20Control.ipynb"
     ]
    },
    {
     "cell_type": "markdown",
     "metadata": {},
     "source": [
      "[6] Repositorio ejemplos-python: https://github.com/iafarfan/ejemplos-python"
     ]
    },
    {
     "cell_type": "markdown",
     "metadata": {},
     "source": [
      "[7] Tutorial de Git en Linux Ubuntu en Espa\u00f1ol http://www.cristalab.com/tutoriales/introduccion-a-github-en-linux-ubuntu-c106086l/"
     ]
    },
    {
     "cell_type": "markdown",
     "metadata": {},
     "source": [
      "[8] C\u00f3mo elaborar un proyecto en Github http://www.cristalab.com/tutoriales/como-colaborar-en-un-proyecto-en-github-c112327l/"
     ]
    }
   ],
   "metadata": {}
  }
 ]
}